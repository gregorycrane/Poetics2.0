{
 "cells": [
  {
   "cell_type": "code",
   "execution_count": 45,
   "id": "57801fc8-055b-40dc-ad81-929621409d28",
   "metadata": {},
   "outputs": [
    {
     "name": "stdout",
     "output_type": "stream",
     "text": [
      "tlg0086.tlg034.butcher1911-grc1.xml\n",
      "foo tlg0086.tlg034.butcher1911-grc1.xml\n",
      "bek 1447a 0 8\n",
      "bek 1447b 0 8\n"
     ]
    }
   ],
   "source": [
    "import re\n",
    "\n",
    "def butchgk():\n",
    "    fname = 'tlg0086.tlg034.butcher1911-grc1-pre.xml'\n",
    "    outfname = re.sub('-pre','-1',fname)\n",
    "    intext = 0\n",
    "    print(outfname)\n",
    "    f  = open(fname)\n",
    "    cursect = 0\n",
    "    curchapn = 0\n",
    "    print('foo',outfname)\n",
    "    curline = 0\n",
    "    bekker = ''\n",
    "    prevline = 7\n",
    "    outf = open(outfname,'w')\n",
    "    for l in f:\n",
    "        l = re.sub('\\s+$','',l)\n",
    "        if(re.search('(<text>|</note>)',l)):\n",
    "            intext = 1\n",
    "        if(re.search('<note>',l)):\n",
    "            intext = 0\n",
    "        if(not intext or len(l) == 0):\n",
    "            print(l,file=outf)\n",
    "            continue\n",
    "        m = re.search('chapter\" n=\"([0-9]+)',l)\n",
    "        if(m):\n",
    "            curchapn = int(m[1])\n",
    "        m = re.search('<milestone unit=\"bekker[^\"]+\" n=\"([^\"]+)',l)\n",
    "        if(m):\n",
    "            prevline = 0\n",
    "            bekker = m[1]\n",
    "\n",
    "            \n",
    "\n",
    "        m = re.search('([;\\.])\\s+(.+)\\s+([0-9]+)$',l)\n",
    "        if(m):\n",
    "            l  = re.sub('([;\\.])\\s+(.+)\\s+([0-9]+)$','\\g<1></p></div><div type=\"textpart\" subtype=\"section\" n=\"\\g<3>\"><p>\\g<2>',l)\n",
    "            \n",
    "        m = re.search('(\\·)\\s+(.+)\\s+([0-9]+)$',l)\n",
    "        if(m):\n",
    "            l  = re.sub('(\\·)\\s+(.+)\\s+([0-9]+)$','\\g<1></p></div><div type=\"textpart\" subtype=\"section\" n=\"\\g<3>\"><p>\\g<2>',l)\n",
    "            #print(l)\n",
    "        \n",
    "        m = re.search('section\" n=\"([0-9]+)',l)\n",
    "        if(m):\n",
    "            cursectn = int(m[1])\n",
    "            if(cursectn == 1):\n",
    "                prevsectn = 1\n",
    "            else:\n",
    "                if(not cursectn == prevsectn + 1):\n",
    "                    print('jump',curchapn,prevsectn,cursectn)\n",
    "        \n",
    "            prevsectn = cursectn\n",
    "        l = re.sub('\\s+$','',l)\n",
    "        if(l[0] == '<'):\n",
    "            print(l,file=outf)\n",
    "            continue\n",
    "        m = re.search('^([0-9]+)',l)\n",
    "        if(m):\n",
    "            curline = int(m[1])\n",
    "            if(not curline == prevline + 1):\n",
    "                print('bek',bekker,prevline,curline)\n",
    "            prevline = curline\n",
    "            l = re.sub('^([0-9]+)\\s*','<lb n=\"\\g<1>\"/>',l)\n",
    "        else:\n",
    "            curline = prevline + 1\n",
    "            l = '<lb n=\"'+str(curline)+'\"/>' + l\n",
    "            prevline = curline\n",
    "\n",
    "        print(l,file=outf)\n",
    "    f.close()\n",
    "\n",
    "butchgk()"
   ]
  },
  {
   "cell_type": "code",
   "execution_count": null,
   "id": "47880630-345a-4103-8f3d-ad70f18f322d",
   "metadata": {},
   "outputs": [],
   "source": []
  },
  {
   "cell_type": "code",
   "execution_count": null,
   "id": "fe846c79-d419-4ebd-9e38-71e0d264e96b",
   "metadata": {},
   "outputs": [],
   "source": []
  }
 ],
 "metadata": {
  "kernelspec": {
   "display_name": "Python 3 (ipykernel)",
   "language": "python",
   "name": "python3"
  },
  "language_info": {
   "codemirror_mode": {
    "name": "ipython",
    "version": 3
   },
   "file_extension": ".py",
   "mimetype": "text/x-python",
   "name": "python",
   "nbconvert_exporter": "python",
   "pygments_lexer": "ipython3",
   "version": "3.10.9"
  }
 },
 "nbformat": 4,
 "nbformat_minor": 5
}
