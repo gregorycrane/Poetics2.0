{
 "cells": [
  {
   "cell_type": "code",
   "execution_count": 35,
   "id": "0fa68e47-660c-4878-aa46-fd73e22f38e4",
   "metadata": {},
   "outputs": [
    {
     "name": "stdout",
     "output_type": "stream",
     "text": [
      "jump 469 15 17 <note type=\"margin\"> 17. </note> It is probable, therefore, that this objection is erroneous. In short, it is necessary to refer the impossible either to the poetry, or to that which is better, or to opinion. For, with respect to poetry, probable impossibility is more eligible, than the improbable and possible, and things should be such as Zeuxis23 painted. And also [we may refer the impossible] to that which is better24: for it is necessary that the pattern should transcend those things which are said to be irrational. The objection, also, that something is irrational may be solved by saying, that sometimes it is not irrational; for it is probable that what is improbable may have happened.\n"
     ]
    }
   ],
   "source": [
    "import re\n",
    "\n",
    "def fixbohn(fname):\n",
    "    f = open(fname)\n",
    "    inpoetics = 0\n",
    "    outfname = re.sub('\\.xml$','-2.xml',fname)\n",
    "    outf = open(outfname,'w')\n",
    "    inpoetics = 0\n",
    "    cursection = ''\n",
    "    prevsectn = 0\n",
    "    cursectn = 0\n",
    "    prevnoten = 0\n",
    "    for l in f:\n",
    "        l = re.sub('\\s+$','',l)\n",
    "        m = re.search('<pb n=\"([^\"]+)\"/>',l)\n",
    "        if(m):\n",
    "            curpnum = m[1]\n",
    "            if(curpnum == '405'):\n",
    "                inpoetics = 1\n",
    "            if(curpnum == '478'):\n",
    "                inpoetics = 0\n",
    "        if(not inpoetics):\n",
    "            print(l,file=outf)\n",
    "            continue\n",
    "                \n",
    "\n",
    "        m = re.search('<note type=\"footnote\" n=\"([0-9]+)\">',l)\n",
    "        if(m):\n",
    "            curnoten = int(m[1])\n",
    "            if(not curnoten == prevnoten + 1 and not curnoten == 1):\n",
    "                print('notejump',curpnum,prevnoten,curnoten,l)\n",
    "            prevnoten = curnoten\n",
    "        if(re.search('type=\"chapter\" n',l)):\n",
    "            prevsectn = 1\n",
    "            #prevnoten = 0\n",
    "            cursection = ''\n",
    "        m = re.search('<note type=\"margin\">\\s*([0-9]+)\\.',l)\n",
    "        if(m):\n",
    "            cursection = m[1]\n",
    "            cursectn = int(m[1])\n",
    "            if(not cursectn == prevsectn + 1):\n",
    "                print('jump',curpnum,prevsectn,cursectn,l)\n",
    "            prevsectn = cursectn\n",
    "        print(l,file=outf)\n",
    "    f.close()\n",
    "    outf.close()\n",
    "\n",
    "fixbohn('aristotle_1850.xml')"
   ]
  },
  {
   "cell_type": "code",
   "execution_count": null,
   "id": "65984811-3245-46c2-9b8b-205e9f29d4ad",
   "metadata": {},
   "outputs": [],
   "source": []
  },
  {
   "cell_type": "code",
   "execution_count": null,
   "id": "f59bf6a9-d954-43a2-b144-efd36b831f8c",
   "metadata": {},
   "outputs": [],
   "source": []
  }
 ],
 "metadata": {
  "kernelspec": {
   "display_name": "Python 3 (ipykernel)",
   "language": "python",
   "name": "python3"
  },
  "language_info": {
   "codemirror_mode": {
    "name": "ipython",
    "version": 3
   },
   "file_extension": ".py",
   "mimetype": "text/x-python",
   "name": "python",
   "nbconvert_exporter": "python",
   "pygments_lexer": "ipython3",
   "version": "3.10.9"
  }
 },
 "nbformat": 4,
 "nbformat_minor": 5
}
